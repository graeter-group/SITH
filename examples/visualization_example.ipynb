{
 "cells": [
  {
   "cell_type": "code",
   "execution_count": 1,
   "id": "b9318472",
   "metadata": {},
   "outputs": [],
   "source": [
    "import sys\n",
    "sys.path.insert(0, '../')\n",
    "\n",
    "from src.SITH.SITH import SITH\n",
    "from src.SITH.Visualization import VisualizeEnergies\n",
    "from src.SITH.SithWriter import SithWriter\n",
    "from src.SITH.Utilities import SummaryReader"
   ]
  },
  {
   "cell_type": "markdown",
   "id": "d8643127",
   "metadata": {},
   "source": [
    "# Proline\n",
    "\n",
    "This example takes a Proline molecule and applies the JEDI method. Here, we show how to use the visualization part of SITH. In this case, we generated the optimized and the streched configuration previusly with gaussian (g09). We streched the molecule by increasing the distance between atoms atoms 1 and 23 in 0.2 Å."
   ]
  },
  {
   "cell_type": "markdown",
   "id": "f3af3f62",
   "metadata": {},
   "source": [
    "## Visualize molecule using SummaryReader"
   ]
  },
  {
   "cell_type": "markdown",
   "id": "9f7cc25d",
   "metadata": {},
   "source": [
    "SITH allows to store the information of one run in a file using WriteSummary. This method creates a file called summary.txt by defaulf."
   ]
  },
  {
   "cell_type": "code",
   "execution_count": 2,
   "id": "481210ba",
   "metadata": {
    "scrolled": false
   },
   "outputs": [
    {
     "name": "stdout",
     "output_type": "stream",
     "text": [
      "Validating input files...\n",
      "Successfully initialized SITH object with given input files...\n",
      "Beginning data extraction...\n",
      "Retrieving file contents...\n",
      "Building full Hessian matrix.\n",
      "Cartesian data extracted successfully.\n",
      "Building full Hessian matrix.\n",
      "Cartesian data extracted successfully.\n",
      "Finished data extraction...\n",
      "Removing DOFs in the deformed geometries which are not present in the reference geometry...\n",
      "Validating geometries...\n",
      "Populating RIC vectors and calculating Δq...\n",
      "Finished setting up for energy analysis...\n",
      "Performing energy analysis...\n",
      "Execute Order 67. Successful energy analysis completed.\n"
     ]
    },
    {
     "name": "stderr",
     "output_type": "stream",
     "text": [
      "/hits/fast/mbm/sucerquia/software/conda/lib/python3.9/site-packages/numpy/lib/function_base.py:5071: VisibleDeprecationWarning: Creating an ndarray from ragged nested sequences (which is a list-or-tuple of lists-or-tuples-or ndarrays with different lengths or shapes) is deprecated. If you meant to do this, you must specify 'dtype=object' when creating the ndarray.\n",
      "  arr = asarray(arr)\n",
      "/hits/fast/mbm/sucerquia/software/conda/lib/python3.9/site-packages/numpy/core/numeric.py:2457: VisibleDeprecationWarning: Creating an ndarray from ragged nested sequences (which is a list-or-tuple of lists-or-tuples-or ndarrays with different lengths or shapes) is deprecated. If you meant to do this, you must specify 'dtype=object' when creating the ndarray.\n",
      "  a1, a2 = asarray(a1), asarray(a2)\n"
     ]
    }
   ],
   "source": [
    "drelaxed = 'proline-optimized.fchk'\n",
    "dstreched = 'proline-streched.fchk'\n",
    "sith_Ala = SITH(drelaxed, dstreched)\n",
    "sith_Ala.extractData()\n",
    "sith_Ala.energyAnalysis()\n",
    "SithWriter.writeSummary(sith_Ala, includeXYZ=True)\n",
    "\n",
    "sith_result = SummaryReader('summary.txt')"
   ]
  },
  {
   "cell_type": "markdown",
   "id": "08dd6d84",
   "metadata": {},
   "source": [
    "You can use this file to obtain the visualization without run again the sith method. To this aim, you can use the SummaryReader class, that stores the same instances as the sith object."
   ]
  },
  {
   "cell_type": "code",
   "execution_count": 3,
   "id": "25f2ae6f",
   "metadata": {},
   "outputs": [
    {
     "data": {
      "application/vnd.jupyter.widget-view+json": {
       "model_id": "3d79705a72ed483db471c5c2ff2bc5d7",
       "version_major": 2,
       "version_minor": 0
      },
      "text/plain": []
     },
     "metadata": {},
     "output_type": "display_data"
    },
    {
     "data": {
      "application/vnd.jupyter.widget-view+json": {
       "model_id": "b5034e80adb6468db678091d2800585a",
       "version_major": 2,
       "version_minor": 0
      },
      "text/plain": [
       "HBox(children=(NGLWidget(background='#ffc'), VBox(children=(Dropdown(description='Show', options=('All', 'H', …"
      ]
     },
     "metadata": {},
     "output_type": "display_data"
    }
   ],
   "source": [
    "v = VisualizeEnergies(sith_result)\n",
    "# Next line adds green bonds\n",
    "v.show_bonds(color=[0,1,0])\n",
    "v.show()"
   ]
  },
  {
   "cell_type": "markdown",
   "id": "a7e57d99",
   "metadata": {},
   "source": [
    "In the next examples, it is the same to use sith_Ala or sith_results. It contains the same information regarding the visualization part"
   ]
  },
  {
   "cell_type": "markdown",
   "id": "e28e336c",
   "metadata": {},
   "source": [
    "## Visualize molecule using SITH object"
   ]
  },
  {
   "cell_type": "code",
   "execution_count": 4,
   "id": "4a7513ba",
   "metadata": {},
   "outputs": [
    {
     "name": "stdout",
     "output_type": "stream",
     "text": [
      "Validating input files...\n",
      "Successfully initialized SITH object with given input files...\n",
      "Beginning data extraction...\n",
      "Retrieving file contents...\n",
      "Building full Hessian matrix.\n",
      "Cartesian data extracted successfully.\n",
      "Building full Hessian matrix.\n",
      "Cartesian data extracted successfully.\n",
      "Finished data extraction...\n",
      "Removing DOFs in the deformed geometries which are not present in the reference geometry...\n",
      "Validating geometries...\n",
      "Populating RIC vectors and calculating Δq...\n",
      "Finished setting up for energy analysis...\n",
      "Performing energy analysis...\n",
      "Execute Order 67. Successful energy analysis completed.\n"
     ]
    },
    {
     "name": "stderr",
     "output_type": "stream",
     "text": [
      "/hits/fast/mbm/sucerquia/software/conda/lib/python3.9/site-packages/numpy/lib/function_base.py:5071: VisibleDeprecationWarning: Creating an ndarray from ragged nested sequences (which is a list-or-tuple of lists-or-tuples-or ndarrays with different lengths or shapes) is deprecated. If you meant to do this, you must specify 'dtype=object' when creating the ndarray.\n",
      "  arr = asarray(arr)\n",
      "/hits/fast/mbm/sucerquia/software/conda/lib/python3.9/site-packages/numpy/core/numeric.py:2457: VisibleDeprecationWarning: Creating an ndarray from ragged nested sequences (which is a list-or-tuple of lists-or-tuples-or ndarrays with different lengths or shapes) is deprecated. If you meant to do this, you must specify 'dtype=object' when creating the ndarray.\n",
      "  a1, a2 = asarray(a1), asarray(a2)\n"
     ]
    },
    {
     "data": {
      "application/vnd.jupyter.widget-view+json": {
       "model_id": "75ef4ff6e7d447b2ae19c764d480d087",
       "version_major": 2,
       "version_minor": 0
      },
      "text/plain": [
       "HBox(children=(NGLWidget(background='#ffc'), VBox(children=(Dropdown(description='Show', options=('All', 'H', …"
      ]
     },
     "metadata": {},
     "output_type": "display_data"
    }
   ],
   "source": [
    "drelaxed = 'proline-optimized.fchk'\n",
    "dstreched = 'proline-streched.fchk'\n",
    "sith_Ala = SITH(drelaxed, dstreched)\n",
    "# The initialization of SITH needs the dof to be excluded\n",
    "v = VisualizeEnergies(sith_Ala)\n",
    "# Next line adds green bonds\n",
    "v.show_bonds(color=[0,1,0])\n",
    "v.show()"
   ]
  },
  {
   "cell_type": "markdown",
   "id": "38722a70",
   "metadata": {},
   "source": [
    "if click in one of the atoms, the next function will show the properties of that atom. Note that the index here starts in 0, but in g09 starts in 1."
   ]
  },
  {
   "cell_type": "code",
   "execution_count": 5,
   "id": "b6a80202",
   "metadata": {
    "scrolled": true
   },
   "outputs": [
    {
     "data": {
      "text/plain": [
       "{'atom1': {'index': 24,\n",
       "  'residueIndex': 0,\n",
       "  'resname': 'MOL',\n",
       "  'x': -4.002999782562256,\n",
       "  'y': -0.49000000953674316,\n",
       "  'z': -0.12600000202655792,\n",
       "  'element': 'H',\n",
       "  'chainname': 'A',\n",
       "  'resno': 1,\n",
       "  'serial': 25,\n",
       "  'vdw': 1.1,\n",
       "  'covalent': 0.31,\n",
       "  'hetero': 0,\n",
       "  'bfactor': 0,\n",
       "  'altloc': '',\n",
       "  'atomname': 'H',\n",
       "  'modelIndex': 0,\n",
       "  'name': '[MOL]1:A.H'},\n",
       " 'component': 0}"
      ]
     },
     "execution_count": 5,
     "metadata": {},
     "output_type": "execute_result"
    }
   ],
   "source": [
    "v.picked()"
   ]
  },
  {
   "cell_type": "markdown",
   "id": "6f28e1a5",
   "metadata": {},
   "source": [
    "## Visualization of distribution of energies in bonds"
   ]
  },
  {
   "cell_type": "code",
   "execution_count": 6,
   "id": "0f0d305b",
   "metadata": {},
   "outputs": [
    {
     "name": "stdout",
     "output_type": "stream",
     "text": [
      "Validating input files...\n",
      "Successfully initialized SITH object with given input files...\n",
      "Beginning data extraction...\n",
      "Retrieving file contents...\n",
      "Building full Hessian matrix.\n",
      "Cartesian data extracted successfully.\n",
      "Building full Hessian matrix.\n",
      "Cartesian data extracted successfully.\n",
      "Finished data extraction...\n",
      "Removing DOFs in the deformed geometries which are not present in the reference geometry...\n",
      "Validating geometries...\n",
      "Populating RIC vectors and calculating Δq...\n",
      "Finished setting up for energy analysis...\n",
      "Performing energy analysis...\n",
      "Execute Order 67. Successful energy analysis completed.\n"
     ]
    },
    {
     "data": {
      "application/vnd.jupyter.widget-view+json": {
       "model_id": "cfb86485685241bba78e676fd1c147c5",
       "version_major": 2,
       "version_minor": 0
      },
      "text/plain": [
       "HBox(children=(NGLWidget(background='#ffc'), Output()))"
      ]
     },
     "metadata": {},
     "output_type": "display_data"
    }
   ],
   "source": [
    "drelaxed = 'proline-optimized.fchk'\n",
    "dstreched = 'proline-streched.fchk'\n",
    "sith_Ala = SITH(drelaxed, dstreched)\n",
    "v = VisualizeEnergies(sith_Ala)\n",
    "# In this case, the color bar is divided in 4 colors and it is necessary \n",
    "# 6 decimals to see the differences of energies. The resolution of the \n",
    "# angles is specified with the parameter n.\n",
    "v.energies_bonds(div=4, n=3, deci=6)\n",
    "# To make the visualization easier, you can add bonds with a specific color\n",
    "v.show()"
   ]
  },
  {
   "cell_type": "markdown",
   "id": "224d8f82",
   "metadata": {},
   "source": [
    "## Visualization of distribution of energies in angles"
   ]
  },
  {
   "cell_type": "code",
   "execution_count": 7,
   "id": "a0b038f4",
   "metadata": {},
   "outputs": [
    {
     "name": "stdout",
     "output_type": "stream",
     "text": [
      "Validating input files...\n",
      "Successfully initialized SITH object with given input files...\n",
      "Beginning data extraction...\n",
      "Retrieving file contents...\n",
      "Building full Hessian matrix.\n",
      "Cartesian data extracted successfully.\n",
      "Building full Hessian matrix.\n",
      "Cartesian data extracted successfully.\n",
      "Finished data extraction...\n",
      "Removing DOFs in the deformed geometries which are not present in the reference geometry...\n",
      "Validating geometries...\n",
      "Populating RIC vectors and calculating Δq...\n",
      "Finished setting up for energy analysis...\n",
      "Performing energy analysis...\n",
      "Execute Order 67. Successful energy analysis completed.\n"
     ]
    },
    {
     "data": {
      "application/vnd.jupyter.widget-view+json": {
       "model_id": "ffa8ee41dae14459b3a5a2aad242c996",
       "version_major": 2,
       "version_minor": 0
      },
      "text/plain": [
       "HBox(children=(NGLWidget(background='#ffc'), Output()))"
      ]
     },
     "metadata": {},
     "output_type": "display_data"
    }
   ],
   "source": [
    "drelaxed = 'proline-optimized.fchk'\n",
    "dstreched = 'proline-streched.fchk'\n",
    "sith_Ala = SITH(drelaxed, dstreched)\n",
    "v = VisualizeEnergies(sith_Ala)\n",
    "# In this case, the color bar is divided in 5 colors (default) and it is necessary \n",
    "# 6 decimals to see the differences of energies. The resolution of the \n",
    "# visualization of angles is specified with the parameter n.\n",
    "v.energies_angles(n=3, deci=6)\n",
    "# To make the visualization easier, you can add bonds with a specific color.\n",
    "# In this case, green.\n",
    "v.show_bonds(color=[0, 1, 0])\n",
    "v.show()"
   ]
  },
  {
   "cell_type": "markdown",
   "id": "27d05355",
   "metadata": {},
   "source": [
    "## Visualization of distribution of energies in some dihedral angles"
   ]
  },
  {
   "cell_type": "code",
   "execution_count": 8,
   "id": "a05c6978",
   "metadata": {},
   "outputs": [
    {
     "name": "stdout",
     "output_type": "stream",
     "text": [
      "Validating input files...\n",
      "Successfully initialized SITH object with given input files...\n",
      "Beginning data extraction...\n",
      "Retrieving file contents...\n",
      "Building full Hessian matrix.\n",
      "Cartesian data extracted successfully.\n",
      "Building full Hessian matrix.\n",
      "Cartesian data extracted successfully.\n",
      "Finished data extraction...\n",
      "Removing DOFs in the deformed geometries which are not present in the reference geometry...\n",
      "Validating geometries...\n",
      "Populating RIC vectors and calculating Δq...\n",
      "Finished setting up for energy analysis...\n",
      "Performing energy analysis...\n",
      "Execute Order 67. Successful energy analysis completed.\n"
     ]
    },
    {
     "data": {
      "application/vnd.jupyter.widget-view+json": {
       "model_id": "1b9e1d07e41446eabf319739afd454aa",
       "version_major": 2,
       "version_minor": 0
      },
      "text/plain": [
       "HBox(children=(NGLWidget(background='#ffc'), Output()))"
      ]
     },
     "metadata": {},
     "output_type": "display_data"
    }
   ],
   "source": [
    "drelaxed = 'proline-optimized.fchk'\n",
    "dstreched = 'proline-streched.fchk'\n",
    "sith_Ala = SITH(drelaxed, dstreched)\n",
    "v = VisualizeEnergies(sith_Ala)\n",
    "\n",
    "dihedrals = [(2, 1, 5, 6),\n",
    "             (6, 5, 7, 8),\n",
    "             (5, 7, 17, 14),\n",
    "             (7, 17, 19, 20),\n",
    "             (17, 19, 21, 22),\n",
    "             (19, 21, 23, 24)]\n",
    "# Now, the color bar is divided in 7 colors and it is necessary \n",
    "# 6 decimals to see the differences of energies.\n",
    "v.energies_some_dof(dihedrals, div=7, deci=6)\n",
    "# To make the visualization easier, you can add bonds with a specific color\n",
    "v.show_bonds(color=[0, 1, 0])\n",
    "v.show()"
   ]
  },
  {
   "cell_type": "markdown",
   "id": "fa743f3b",
   "metadata": {},
   "source": [
    "## Add and remove specific DOF"
   ]
  },
  {
   "cell_type": "code",
   "execution_count": 9,
   "id": "d66beed0",
   "metadata": {},
   "outputs": [
    {
     "name": "stdout",
     "output_type": "stream",
     "text": [
      "Validating input files...\n",
      "Successfully initialized SITH object with given input files...\n",
      "Beginning data extraction...\n",
      "Retrieving file contents...\n",
      "Building full Hessian matrix.\n",
      "Cartesian data extracted successfully.\n",
      "Building full Hessian matrix.\n",
      "Cartesian data extracted successfully.\n",
      "Finished data extraction...\n",
      "Removing DOFs in the deformed geometries which are not present in the reference geometry...\n",
      "Validating geometries...\n",
      "Populating RIC vectors and calculating Δq...\n",
      "Finished setting up for energy analysis...\n",
      "Performing energy analysis...\n",
      "Execute Order 67. Successful energy analysis completed.\n"
     ]
    },
    {
     "data": {
      "application/vnd.jupyter.widget-view+json": {
       "model_id": "5b03e02225b24466ac663b7bd050b793",
       "version_major": 2,
       "version_minor": 0
      },
      "text/plain": [
       "HBox(children=(NGLWidget(background='#ffc'), Output()))"
      ]
     },
     "metadata": {},
     "output_type": "display_data"
    }
   ],
   "source": [
    "drelaxed = 'proline-optimized.fchk'\n",
    "dstreched = 'proline-streched.fchk'\n",
    "sith_Ala = SITH(drelaxed, dstreched)\n",
    "v = VisualizeEnergies(sith_Ala)\n",
    "\n",
    "\n",
    "# bonds\n",
    "bonds = [(1, 2),\n",
    "         (1, 5),\n",
    "         (5, 7),\n",
    "         (7, 8),\n",
    "         (8, 11)]\n",
    "\n",
    "#angles\n",
    "angles = [(2, 1, 5),\n",
    "          (1, 5, 7),\n",
    "          (5, 7, 8)]\n",
    "# dihedrals\n",
    "dihedrals = [(2, 1, 5, 6),\n",
    "             (6, 5, 7, 8),\n",
    "             (5, 7, 17, 14),\n",
    "             (7, 17, 19, 20),\n",
    "             (17, 19, 21, 22),\n",
    "             (19, 21, 23, 24)]\n",
    "\n",
    "dofs = bonds + angles + dihedrals \n",
    "\n",
    "# first, we add specific degrees of freedom we want\n",
    "# to analize. In the next cells, some of these DOFs\n",
    "# are removed.\n",
    "v.energies_some_dof(dofs, div=7, deci=6)\n",
    "v.show()"
   ]
  },
  {
   "cell_type": "code",
   "execution_count": 10,
   "id": "1385d0e9",
   "metadata": {},
   "outputs": [],
   "source": [
    "v.remove_angle(2, 1, 5);"
   ]
  },
  {
   "cell_type": "code",
   "execution_count": 11,
   "id": "c4fdb8e0",
   "metadata": {},
   "outputs": [],
   "source": [
    "v.remove_bond(1, 5);"
   ]
  },
  {
   "cell_type": "code",
   "execution_count": 12,
   "id": "0e1e07a1",
   "metadata": {},
   "outputs": [],
   "source": [
    "v.remove_dihedral(2, 1, 5, 6);"
   ]
  },
  {
   "cell_type": "code",
   "execution_count": 13,
   "id": "08c90381",
   "metadata": {},
   "outputs": [],
   "source": [
    "v.remove_all_dihedrals()"
   ]
  },
  {
   "cell_type": "code",
   "execution_count": 14,
   "id": "9acbc1b8",
   "metadata": {},
   "outputs": [],
   "source": [
    "v.remove_all_bonds();"
   ]
  },
  {
   "cell_type": "code",
   "execution_count": 15,
   "id": "58af1dfe",
   "metadata": {},
   "outputs": [],
   "source": [
    "v.remove_all_angles()"
   ]
  },
  {
   "cell_type": "code",
   "execution_count": 16,
   "id": "ff99beee",
   "metadata": {},
   "outputs": [],
   "source": [
    "v.show_bonds()"
   ]
  },
  {
   "cell_type": "markdown",
   "id": "165bec05",
   "metadata": {},
   "source": [
    "# Documentation\n",
    "\n",
    "For a fast check of the documentation of each function, see the examples in the next cells"
   ]
  },
  {
   "cell_type": "code",
   "execution_count": 17,
   "id": "c923bd27",
   "metadata": {},
   "outputs": [
    {
     "name": "stdout",
     "output_type": "stream",
     "text": [
      "Validating input files...\n",
      "Successfully initialized SITH object with given input files...\n",
      "Beginning data extraction...\n",
      "Retrieving file contents...\n",
      "Building full Hessian matrix.\n",
      "Cartesian data extracted successfully.\n",
      "Building full Hessian matrix.\n",
      "Cartesian data extracted successfully.\n",
      "Finished data extraction...\n",
      "Removing DOFs in the deformed geometries which are not present in the reference geometry...\n",
      "Validating geometries...\n",
      "Populating RIC vectors and calculating Δq...\n",
      "Finished setting up for energy analysis...\n",
      "Performing energy analysis...\n",
      "Execute Order 67. Successful energy analysis completed.\n"
     ]
    }
   ],
   "source": [
    "drelaxed = 'proline-optimized.fchk'\n",
    "dstreched = 'proline-streched.fchk'\n",
    "sith_Ala = SITH(drelaxed, dstreched)\n",
    "v = VisualizeEnergies(sith_Ala)"
   ]
  },
  {
   "cell_type": "code",
   "execution_count": 18,
   "id": "31d8a541",
   "metadata": {},
   "outputs": [
    {
     "name": "stdout",
     "output_type": "stream",
     "text": [
      "\n",
      "        Add all DOF with a color scale that represents the\n",
      "        distribution of energy according to the JEDI method.\n",
      "\n",
      "        Parameters\n",
      "        ==========\n",
      "\n",
      "        optional kwargs for energies_some_dof\n",
      "        \n"
     ]
    }
   ],
   "source": [
    "print(v.energies_all_dof.__doc__)"
   ]
  },
  {
   "cell_type": "code",
   "execution_count": 19,
   "id": "9ad3ad30",
   "metadata": {},
   "outputs": [
    {
     "name": "stdout",
     "output_type": "stream",
     "text": [
      "\n",
      "        Add the bonds with a color scale that represents the\n",
      "        distribution of energy according to the JEDI method.\n",
      "\n",
      "        Parameters\n",
      "        ==========\n",
      "\n",
      "        dofs: list of tuples.\n",
      "            list of degrees of freedom defined according with g09 convention.\n",
      "\n",
      "        cmap: cmap. Default: mpl.cm.get_cmap(\"Blues\")\n",
      "            cmap used in the color bar.\n",
      "\n",
      "        label: str. Default: \"Energy [a.u]\"\n",
      "            label of the color bar.\n",
      "\n",
      "        labelsize: float.\n",
      "            size of the label in the\n",
      "\n",
      "        orientation: \"vertical\" or \"horizontal\". Default: \"vertical\"\n",
      "            orientation of the color bar.\n",
      "\n",
      "        div: int. Default: 5\n",
      "            number of colors in the colorbar.\n",
      "        \n"
     ]
    }
   ],
   "source": [
    "print(v.energies_some_dof.__doc__)\n"
   ]
  },
  {
   "cell_type": "code",
   "execution_count": 20,
   "id": "d2e3b0ab",
   "metadata": {},
   "outputs": [
    {
     "name": "stdout",
     "output_type": "stream",
     "text": [
      " remove all angles\n"
     ]
    }
   ],
   "source": [
    "print(v.remove_all_angles.__doc__)"
   ]
  },
  {
   "cell_type": "markdown",
   "id": "b9677921",
   "metadata": {},
   "source": [
    "## Methods and instances in VisualizeEnergy"
   ]
  },
  {
   "cell_type": "code",
   "execution_count": 21,
   "id": "144b361b",
   "metadata": {},
   "outputs": [
    {
     "name": "stdout",
     "output_type": "stream",
     "text": [
      "add_angle\n",
      "add_axis\n",
      "add_bond\n",
      "add_bonds\n",
      "add_dihedral\n",
      "add_dof\n",
      "align_axis\n",
      "align_plane\n",
      "angles\n",
      "apply_trans\n",
      "atoms\n",
      "bonds\n",
      "box\n",
      "dihedrals\n",
      "download_image\n",
      "energies_all_dof\n",
      "energies_angles\n",
      "energies_bonds\n",
      "energies_dihedrals\n",
      "energies_some_dof\n",
      "idef\n",
      "intermedia_vectors\n",
      "nangles\n",
      "nbonds\n",
      "ndihedral\n",
      "picked\n",
      "plot_arc\n",
      "remove_all_angles\n",
      "remove_all_bonds\n",
      "remove_all_dihedrals\n",
      "remove_angle\n",
      "remove_axis\n",
      "remove_bond\n",
      "remove_bonds\n",
      "remove_dihedral\n",
      "rot_x\n",
      "rot_y\n",
      "rot_z\n",
      "shape\n",
      "show\n",
      "show_bonds\n",
      "show_dof\n",
      "sith\n",
      "viewer\n",
      "xy_alignment\n"
     ]
    }
   ],
   "source": [
    "[print(method) for method in dir(v) if method[0] != '_'];"
   ]
  }
 ],
 "metadata": {
  "kernelspec": {
   "display_name": "Python 3 (ipykernel)",
   "language": "python",
   "name": "python3"
  },
  "language_info": {
   "codemirror_mode": {
    "name": "ipython",
    "version": 3
   },
   "file_extension": ".py",
   "mimetype": "text/x-python",
   "name": "python",
   "nbconvert_exporter": "python",
   "pygments_lexer": "ipython3",
   "version": "3.9.13"
  }
 },
 "nbformat": 4,
 "nbformat_minor": 5
}
