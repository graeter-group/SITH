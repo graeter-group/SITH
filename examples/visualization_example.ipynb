{
 "cells": [
  {
   "cell_type": "code",
   "execution_count": 1,
   "id": "b9318472",
   "metadata": {},
   "outputs": [],
   "source": [
    "from src.SITH.SITH import SITH\n",
    "from src.SITH.Visualization import VisualizeEnergies"
   ]
  },
  {
   "cell_type": "markdown",
   "id": "d8643127",
   "metadata": {},
   "source": [
    "# Proline\n",
    "\n",
    "This example takes a Proline molecule and applies the JEDI method. Here, we show how to use the visualization part of SITH. In this case, we generated the optimized and the streched configuration previusly with gaussian (g09). We streched the molecule by increasing the distance between atoms atoms 1 and 23 in 0.2 Å."
   ]
  },
  {
   "cell_type": "markdown",
   "id": "e28e336c",
   "metadata": {},
   "source": [
    "## Visualize the molecule"
   ]
  },
  {
   "cell_type": "code",
   "execution_count": 2,
   "id": "4a7513ba",
   "metadata": {},
   "outputs": [
    {
     "name": "stdout",
     "output_type": "stream",
     "text": [
      "Validating input files...\n",
      "Successfully initialized SITH object with given input files...\n",
      "Beginning data extraction...\n",
      "Retrieving file contents...\n",
      "Building full Hessian matrix.\n",
      "Cartesian data extracted successfully.\n",
      "Building full Hessian matrix.\n",
      "Cartesian data extracted successfully.\n",
      "Finished data extraction...\n",
      "Removing DOFs in the deformed geometries which are not present in the reference geometry...\n",
      "Validating geometries...\n",
      "Populating RIC vectors and calculating Δq...\n",
      "Finished setting up for energy analysis...\n",
      "Performing energy analysis...\n",
      "Execute Order 67. Successful energy analysis completed.\n"
     ]
    },
    {
     "name": "stderr",
     "output_type": "stream",
     "text": [
      "/hits/fast/mbm/sucerquia/software/conda/lib/python3.9/site-packages/numpy/lib/function_base.py:5071: VisibleDeprecationWarning: Creating an ndarray from ragged nested sequences (which is a list-or-tuple of lists-or-tuples-or ndarrays with different lengths or shapes) is deprecated. If you meant to do this, you must specify 'dtype=object' when creating the ndarray.\n",
      "  arr = asarray(arr)\n",
      "/hits/fast/mbm/sucerquia/software/conda/lib/python3.9/site-packages/numpy/core/numeric.py:2457: VisibleDeprecationWarning: Creating an ndarray from ragged nested sequences (which is a list-or-tuple of lists-or-tuples-or ndarrays with different lengths or shapes) is deprecated. If you meant to do this, you must specify 'dtype=object' when creating the ndarray.\n",
      "  a1, a2 = asarray(a1), asarray(a2)\n"
     ]
    },
    {
     "data": {
      "application/vnd.jupyter.widget-view+json": {
       "model_id": "cef075f67d5d4d159a50d85ee81bf834",
       "version_major": 2,
       "version_minor": 0
      },
      "text/plain": []
     },
     "metadata": {},
     "output_type": "display_data"
    },
    {
     "data": {
      "application/vnd.jupyter.widget-view+json": {
       "model_id": "c6da7ba70cc54cdb8f45b99358389019",
       "version_major": 2,
       "version_minor": 0
      },
      "text/plain": [
       "HBox(children=(NGLWidget(background='#ffc'), VBox(children=(Dropdown(description='Show', options=('All', 'N', …"
      ]
     },
     "metadata": {},
     "output_type": "display_data"
    }
   ],
   "source": [
    "drelaxed = 'proline-optimized.fchk'\n",
    "dstreched = 'proline-streched.fchk'\n",
    "sith_Ala = SITH(drelaxed, dstreched)\n",
    "# The initialization of SITH needs the dof to be excluded\n",
    "v = VisualizeEnergies(sith_Ala)\n",
    "# Next line adds green bonds\n",
    "v.show_bonds(color=[0,1,0])\n",
    "v.show()"
   ]
  },
  {
   "cell_type": "markdown",
   "id": "38722a70",
   "metadata": {},
   "source": [
    "if click in one of the atoms, the next function will show the properties of that atom. Note that the index here starts in 0, but in g09 starts in 1."
   ]
  },
  {
   "cell_type": "code",
   "execution_count": 3,
   "id": "b6a80202",
   "metadata": {
    "scrolled": true
   },
   "outputs": [
    {
     "data": {
      "text/plain": [
       "{}"
      ]
     },
     "execution_count": 3,
     "metadata": {},
     "output_type": "execute_result"
    }
   ],
   "source": [
    "v.picked()"
   ]
  },
  {
   "cell_type": "markdown",
   "id": "6f28e1a5",
   "metadata": {},
   "source": [
    "## Visualization of distribution of energies in bonds"
   ]
  },
  {
   "cell_type": "code",
   "execution_count": 4,
   "id": "0f0d305b",
   "metadata": {},
   "outputs": [
    {
     "name": "stdout",
     "output_type": "stream",
     "text": [
      "Validating input files...\n",
      "Successfully initialized SITH object with given input files...\n",
      "Beginning data extraction...\n",
      "Retrieving file contents...\n",
      "Building full Hessian matrix.\n",
      "Cartesian data extracted successfully.\n",
      "Building full Hessian matrix.\n",
      "Cartesian data extracted successfully.\n",
      "Finished data extraction...\n",
      "Removing DOFs in the deformed geometries which are not present in the reference geometry...\n",
      "Validating geometries...\n",
      "Populating RIC vectors and calculating Δq...\n",
      "Finished setting up for energy analysis...\n",
      "Performing energy analysis...\n",
      "Execute Order 67. Successful energy analysis completed.\n"
     ]
    },
    {
     "name": "stderr",
     "output_type": "stream",
     "text": [
      "/hits/fast/mbm/sucerquia/software/conda/lib/python3.9/site-packages/numpy/lib/function_base.py:5071: VisibleDeprecationWarning: Creating an ndarray from ragged nested sequences (which is a list-or-tuple of lists-or-tuples-or ndarrays with different lengths or shapes) is deprecated. If you meant to do this, you must specify 'dtype=object' when creating the ndarray.\n",
      "  arr = asarray(arr)\n",
      "/hits/fast/mbm/sucerquia/software/conda/lib/python3.9/site-packages/numpy/core/numeric.py:2457: VisibleDeprecationWarning: Creating an ndarray from ragged nested sequences (which is a list-or-tuple of lists-or-tuples-or ndarrays with different lengths or shapes) is deprecated. If you meant to do this, you must specify 'dtype=object' when creating the ndarray.\n",
      "  a1, a2 = asarray(a1), asarray(a2)\n"
     ]
    },
    {
     "data": {
      "application/vnd.jupyter.widget-view+json": {
       "model_id": "e73fd2c3dc08428c81044c1e2d2981ad",
       "version_major": 2,
       "version_minor": 0
      },
      "text/plain": [
       "HBox(children=(NGLWidget(background='#ffc'), Output()))"
      ]
     },
     "metadata": {},
     "output_type": "display_data"
    }
   ],
   "source": [
    "drelaxed = 'proline-optimized.fchk'\n",
    "dstreched = 'proline-streched.fchk'\n",
    "sith_Ala = SITH(drelaxed, dstreched)\n",
    "v = VisualizeEnergies(sith_Ala)\n",
    "# In this case, the color bar is divided in 4 colors and it is necessary \n",
    "# 6 decimals to see the differences of energies. The resolution of the \n",
    "# angles is specified with the parameter n.\n",
    "v.energies_bonds(div=4, n=3, deci=6)\n",
    "# To make the visualization easier, you can add bonds with a specific color\n",
    "v.show()"
   ]
  },
  {
   "cell_type": "markdown",
   "id": "224d8f82",
   "metadata": {},
   "source": [
    "## Visualization of distribution of energies in angles"
   ]
  },
  {
   "cell_type": "code",
   "execution_count": 5,
   "id": "a0b038f4",
   "metadata": {},
   "outputs": [
    {
     "name": "stdout",
     "output_type": "stream",
     "text": [
      "Validating input files...\n",
      "Successfully initialized SITH object with given input files...\n",
      "Beginning data extraction...\n",
      "Retrieving file contents...\n",
      "Building full Hessian matrix.\n",
      "Cartesian data extracted successfully.\n",
      "Building full Hessian matrix.\n",
      "Cartesian data extracted successfully.\n",
      "Finished data extraction...\n",
      "Removing DOFs in the deformed geometries which are not present in the reference geometry...\n",
      "Validating geometries...\n",
      "Populating RIC vectors and calculating Δq...\n",
      "Finished setting up for energy analysis...\n",
      "Performing energy analysis...\n",
      "Execute Order 67. Successful energy analysis completed.\n"
     ]
    },
    {
     "data": {
      "application/vnd.jupyter.widget-view+json": {
       "model_id": "36271f7e0fee4673b77e0bcb11de85bd",
       "version_major": 2,
       "version_minor": 0
      },
      "text/plain": [
       "HBox(children=(NGLWidget(background='#ffc'), Output()))"
      ]
     },
     "metadata": {},
     "output_type": "display_data"
    }
   ],
   "source": [
    "drelaxed = 'proline-optimized.fchk'\n",
    "dstreched = 'proline-streched.fchk'\n",
    "sith_Ala = SITH(drelaxed, dstreched)\n",
    "v = VisualizeEnergies(sith_Ala)\n",
    "# In this case, the color bar is divided in 5 colors (default) and it is necessary \n",
    "# 6 decimals to see the differences of energies. The resolution of the \n",
    "# visualization of angles is specified with the parameter n.\n",
    "v.energies_angles(n=3, deci=6)\n",
    "# To make the visualization easier, you can add bonds with a specific color,\n",
    "# in this case, green.\n",
    "v.show_bonds(color=[0, 1, 0])\n",
    "v.show()"
   ]
  },
  {
   "cell_type": "markdown",
   "id": "27d05355",
   "metadata": {},
   "source": [
    "## Visualization of distribution of energies in some dihedral angles"
   ]
  },
  {
   "cell_type": "code",
   "execution_count": 6,
   "id": "a05c6978",
   "metadata": {},
   "outputs": [
    {
     "name": "stdout",
     "output_type": "stream",
     "text": [
      "Validating input files...\n",
      "Successfully initialized SITH object with given input files...\n",
      "Beginning data extraction...\n",
      "Retrieving file contents...\n",
      "Building full Hessian matrix.\n",
      "Cartesian data extracted successfully.\n",
      "Building full Hessian matrix.\n",
      "Cartesian data extracted successfully.\n",
      "Finished data extraction...\n",
      "Removing DOFs in the deformed geometries which are not present in the reference geometry...\n",
      "Validating geometries...\n",
      "Populating RIC vectors and calculating Δq...\n",
      "Finished setting up for energy analysis...\n",
      "Performing energy analysis...\n",
      "Execute Order 67. Successful energy analysis completed.\n"
     ]
    },
    {
     "data": {
      "application/vnd.jupyter.widget-view+json": {
       "model_id": "2c8ee07a0a32443fab11ceea19f406a7",
       "version_major": 2,
       "version_minor": 0
      },
      "text/plain": [
       "HBox(children=(NGLWidget(background='#ffc'), Output()))"
      ]
     },
     "metadata": {},
     "output_type": "display_data"
    }
   ],
   "source": [
    "drelaxed = 'proline-optimized.fchk'\n",
    "dstreched = 'proline-streched.fchk'\n",
    "sith_Ala = SITH(drelaxed, dstreched)\n",
    "v = VisualizeEnergies(sith_Ala)\n",
    "\n",
    "dihedrals = [(2, 1, 5, 6),\n",
    "             (6, 5, 7, 8),\n",
    "             (5, 7, 17, 14),\n",
    "             (7, 17, 19, 20),\n",
    "             (17, 19, 21, 22),\n",
    "             (19, 21, 23, 24)]\n",
    "# Now, the color bar is divided in 7 colors and it is necessary \n",
    "# 6 decimals to see the differences of energies.\n",
    "v.energies_some_dof(dihedrals, div=7, deci=6)\n",
    "# To make the visualization easier, you can add bonds with a specific color\n",
    "v.show_bonds(color=[0, 1, 0])\n",
    "v.show()"
   ]
  },
  {
   "cell_type": "markdown",
   "id": "fa743f3b",
   "metadata": {},
   "source": [
    "## Add and remove specific DOF"
   ]
  },
  {
   "cell_type": "code",
   "execution_count": 7,
   "id": "d66beed0",
   "metadata": {},
   "outputs": [
    {
     "name": "stdout",
     "output_type": "stream",
     "text": [
      "Validating input files...\n",
      "Successfully initialized SITH object with given input files...\n",
      "Beginning data extraction...\n",
      "Retrieving file contents...\n",
      "Building full Hessian matrix.\n",
      "Cartesian data extracted successfully.\n",
      "Building full Hessian matrix.\n",
      "Cartesian data extracted successfully.\n",
      "Finished data extraction...\n",
      "Removing DOFs in the deformed geometries which are not present in the reference geometry...\n",
      "Validating geometries...\n",
      "Populating RIC vectors and calculating Δq...\n",
      "Finished setting up for energy analysis...\n",
      "Performing energy analysis...\n",
      "Execute Order 67. Successful energy analysis completed.\n"
     ]
    },
    {
     "data": {
      "application/vnd.jupyter.widget-view+json": {
       "model_id": "7f28f20f1a6046938a804cdaa36e89f6",
       "version_major": 2,
       "version_minor": 0
      },
      "text/plain": [
       "HBox(children=(NGLWidget(background='#ffc'), Output()))"
      ]
     },
     "metadata": {},
     "output_type": "display_data"
    }
   ],
   "source": [
    "drelaxed = 'proline-optimized.fchk'\n",
    "dstreched = 'proline-streched.fchk'\n",
    "sith_Ala = SITH(drelaxed, dstreched)\n",
    "v = VisualizeEnergies(sith_Ala)\n",
    "\n",
    "\n",
    "# bonds\n",
    "bonds = [(1, 2),\n",
    "         (1, 5),\n",
    "         (5, 7),\n",
    "         (7, 8),\n",
    "         (8, 11)]\n",
    "\n",
    "#angles\n",
    "angles = [(2, 1, 5),\n",
    "          (1, 5, 7),\n",
    "          (5, 7, 8)]\n",
    "# dihedrals\n",
    "dihedrals = [(2, 1, 5, 6),\n",
    "             (6, 5, 7, 8),\n",
    "             (5, 7, 17, 14),\n",
    "             (7, 17, 19, 20),\n",
    "             (17, 19, 21, 22),\n",
    "             (19, 21, 23, 24)]\n",
    "\n",
    "dofs = bonds + angles + dihedrals \n",
    "\n",
    "# first, we add specific degrees of freedom we want\n",
    "# to analize. In the next cells, some of these DOFs\n",
    "# are removed.\n",
    "v.energies_some_dof(dofs, div=7, deci=6)\n",
    "v.show()"
   ]
  },
  {
   "cell_type": "code",
   "execution_count": 8,
   "id": "1385d0e9",
   "metadata": {},
   "outputs": [],
   "source": [
    "v.remove_angle(2, 1, 5);"
   ]
  },
  {
   "cell_type": "code",
   "execution_count": 9,
   "id": "c4fdb8e0",
   "metadata": {},
   "outputs": [],
   "source": [
    "v.remove_bond(1, 5);"
   ]
  },
  {
   "cell_type": "code",
   "execution_count": 10,
   "id": "0e1e07a1",
   "metadata": {},
   "outputs": [],
   "source": [
    "v.remove_dihedral(2, 1, 5, 6);"
   ]
  },
  {
   "cell_type": "code",
   "execution_count": 11,
   "id": "08c90381",
   "metadata": {},
   "outputs": [],
   "source": [
    "v.remove_all_dihedrals()"
   ]
  },
  {
   "cell_type": "code",
   "execution_count": 12,
   "id": "9acbc1b8",
   "metadata": {},
   "outputs": [],
   "source": [
    "v.remove_all_bonds();"
   ]
  },
  {
   "cell_type": "code",
   "execution_count": 13,
   "id": "58af1dfe",
   "metadata": {},
   "outputs": [],
   "source": [
    "v.remove_all_angles()"
   ]
  },
  {
   "cell_type": "code",
   "execution_count": 14,
   "id": "ff99beee",
   "metadata": {},
   "outputs": [],
   "source": [
    "v.show_bonds()"
   ]
  },
  {
   "cell_type": "markdown",
   "id": "165bec05",
   "metadata": {},
   "source": [
    "# Documentation\n",
    "\n",
    "For a fast check of the documentation of each function, see the examples in the next cells"
   ]
  },
  {
   "cell_type": "code",
   "execution_count": 15,
   "id": "c923bd27",
   "metadata": {},
   "outputs": [
    {
     "name": "stdout",
     "output_type": "stream",
     "text": [
      "Validating input files...\n",
      "Successfully initialized SITH object with given input files...\n",
      "Beginning data extraction...\n",
      "Retrieving file contents...\n",
      "Building full Hessian matrix.\n",
      "Cartesian data extracted successfully.\n",
      "Building full Hessian matrix.\n",
      "Cartesian data extracted successfully.\n",
      "Finished data extraction...\n",
      "Removing DOFs in the deformed geometries which are not present in the reference geometry...\n",
      "Validating geometries...\n",
      "Populating RIC vectors and calculating Δq...\n",
      "Finished setting up for energy analysis...\n",
      "Performing energy analysis...\n",
      "Execute Order 67. Successful energy analysis completed.\n"
     ]
    }
   ],
   "source": [
    "drelaxed = 'proline-optimized.fchk'\n",
    "dstreched = 'proline-streched.fchk'\n",
    "sith_Ala = SITH(drelaxed, dstreched)\n",
    "v = VisualizeEnergies(sith_Ala)"
   ]
  },
  {
   "cell_type": "code",
   "execution_count": 16,
   "id": "31d8a541",
   "metadata": {},
   "outputs": [
    {
     "name": "stdout",
     "output_type": "stream",
     "text": [
      "\n",
      "        Add all DOF with a color scale that represents the\n",
      "        distribution of energy according to the JEDI method.\n",
      "\n",
      "        Parameters\n",
      "        ==========\n",
      "\n",
      "        optional kwargs for energies_some_dof\n",
      "        \n"
     ]
    }
   ],
   "source": [
    "print(v.energies_all_dof.__doc__)"
   ]
  },
  {
   "cell_type": "code",
   "execution_count": 17,
   "id": "9ad3ad30",
   "metadata": {},
   "outputs": [
    {
     "name": "stdout",
     "output_type": "stream",
     "text": [
      "\n",
      "        Add the bonds with a color scale that represents the\n",
      "        distribution of energy according to the JEDI method.\n",
      "\n",
      "        Parameters\n",
      "        ==========\n",
      "\n",
      "        dofs: list of tuples.\n",
      "            list of degrees of freedom defined according with g09 convention.\n",
      "\n",
      "        cmap: cmap. Default: mpl.cm.get_cmap(\"Blues\")\n",
      "            cmap used in the color bar.\n",
      "\n",
      "        label: str. Default: \"Energy [a.u]\"\n",
      "            label of the color bar.\n",
      "\n",
      "        labelsize: float.\n",
      "            size of the label in the\n",
      "\n",
      "        orientation: \"vertical\" or \"horizontal\". Default: \"vertical\"\n",
      "            orientation of the color bar.\n",
      "\n",
      "        div: int. Default: 5\n",
      "            number of colors in the colorbar.\n",
      "        \n"
     ]
    }
   ],
   "source": [
    "print(v.energies_some_dof.__doc__)\n"
   ]
  },
  {
   "cell_type": "code",
   "execution_count": 18,
   "id": "d2e3b0ab",
   "metadata": {},
   "outputs": [
    {
     "name": "stdout",
     "output_type": "stream",
     "text": [
      " remove all angles\n"
     ]
    }
   ],
   "source": [
    "print(v.remove_all_angles.__doc__)"
   ]
  },
  {
   "cell_type": "markdown",
   "id": "b9677921",
   "metadata": {},
   "source": [
    "## Methods and instances in VisualizeEnergy"
   ]
  },
  {
   "cell_type": "code",
   "execution_count": 19,
   "id": "144b361b",
   "metadata": {},
   "outputs": [
    {
     "name": "stdout",
     "output_type": "stream",
     "text": [
      "add_angle\n",
      "add_axis\n",
      "add_bond\n",
      "add_bonds\n",
      "add_dihedral\n",
      "add_dof\n",
      "align_axis\n",
      "align_plane\n",
      "angles\n",
      "apply_trans\n",
      "atoms\n",
      "bonds\n",
      "box\n",
      "dihedrals\n",
      "download_image\n",
      "energies_all_dof\n",
      "energies_angles\n",
      "energies_bonds\n",
      "energies_dihedrals\n",
      "energies_some_dof\n",
      "idef\n",
      "intermedia_vectors\n",
      "nangles\n",
      "nbonds\n",
      "ndihedral\n",
      "picked\n",
      "plot_arc\n",
      "remove_all_angles\n",
      "remove_all_bonds\n",
      "remove_all_dihedrals\n",
      "remove_angle\n",
      "remove_axis\n",
      "remove_bond\n",
      "remove_bonds\n",
      "remove_dihedral\n",
      "rot_x\n",
      "rot_y\n",
      "rot_z\n",
      "shape\n",
      "show\n",
      "show_bonds\n",
      "show_dof\n",
      "sith\n",
      "viewer\n",
      "xy_alignment\n"
     ]
    }
   ],
   "source": [
    "[print(method) for method in dir(v) if method[0] != '_'];"
   ]
  }
 ],
 "metadata": {
  "kernelspec": {
   "display_name": "Python 3 (ipykernel)",
   "language": "python",
   "name": "python3"
  },
  "language_info": {
   "codemirror_mode": {
    "name": "ipython",
    "version": 3
   },
   "file_extension": ".py",
   "mimetype": "text/x-python",
   "name": "python",
   "nbconvert_exporter": "python",
   "pygments_lexer": "ipython3",
   "version": "3.9.13"
  }
 },
 "nbformat": 4,
 "nbformat_minor": 5
}
